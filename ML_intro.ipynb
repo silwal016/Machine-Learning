{
  "nbformat": 4,
  "nbformat_minor": 0,
  "metadata": {
    "colab": {
      "name": "ML_intro.ipynb",
      "provenance": [],
      "authorship_tag": "ABX9TyNMVB1+SjVeS0F9g+OdjD7M",
      "include_colab_link": true
    },
    "kernelspec": {
      "name": "python3",
      "display_name": "Python 3"
    },
    "language_info": {
      "name": "python"
    }
  },
  "cells": [
    {
      "cell_type": "markdown",
      "metadata": {
        "id": "view-in-github",
        "colab_type": "text"
      },
      "source": [
        "<a href=\"https://colab.research.google.com/github/aayushbhurtel/MachineLearning/blob/main/ML_intro.ipynb\" target=\"_parent\"><img src=\"https://colab.research.google.com/assets/colab-badge.svg\" alt=\"Open In Colab\"/></a>"
      ]
    },
    {
      "cell_type": "markdown",
      "source": [
        "## Key ML Terminology\n",
        "# Labels\n",
        ">> A label is the thing we're predicting as a result - the `y` variable in simple linear regression."
      ],
      "metadata": {
        "id": "7SnFHNJS3AUl"
      }
    },
    {
      "cell_type": "markdown",
      "source": [
        "#Features\n",
        ">> A feature is an input variable - the `x` variable in simple linear regression. A simple machine learning project might use a single feature, while a more sophisticated machine learning project could use millions of features. \n",
        "\n",
        "In a email spam dectector example, features are:\n",
        "* words in the email text\n",
        "* sender's address\n",
        "* time of the day email was sent\n",
        "* email contains the phrase \"one weird trick\""
      ],
      "metadata": {
        "id": "ePBt3ChH3Vdw"
      }
    },
    {
      "cell_type": "markdown",
      "source": [
        "#Example\n",
        "An example is a particular instance of data, **x**.\n",
        "There are two types of example:\n",
        "* Labeled examples\n",
        "* Unlabeled examples\n",
        "\n",
        "A labeled example includes both feature(s) and the label."
      ],
      "metadata": {
        "id": "X8hx2rLR4TmR"
      }
    },
    {
      "cell_type": "code",
      "execution_count": null,
      "metadata": {
        "id": "y40PRkj92K5D"
      },
      "outputs": [],
      "source": [
        ""
      ]
    }
  ]
}
